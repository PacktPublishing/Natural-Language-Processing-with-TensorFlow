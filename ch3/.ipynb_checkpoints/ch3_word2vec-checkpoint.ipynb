{
 "cells": [
  {
   "cell_type": "markdown",
   "metadata": {},
   "source": [
    "# Chapter 3: Word2vec - Learning Word Embeddings\n",
    "\n",
    "** Warning **:This code can consume a significant amount of memory. If you have significantly large RAM memory (>4GB) you do not need to worry. Otherwise please reduce the `batch_size` or `embedding_size` parameter to allow the model to fit in memory."
   ]
  },
  {
   "cell_type": "code",
   "execution_count": 1,
   "metadata": {},
   "outputs": [
    {
     "name": "stderr",
     "output_type": "stream",
     "text": [
      "c:\\users\\thushan\\documents\\python_virtualenvs\\tensorflow_venv\\lib\\site-packages\\h5py\\__init__.py:36: FutureWarning: Conversion of the second argument of issubdtype from `float` to `np.floating` is deprecated. In future, it will be treated as `np.float64 == np.dtype(float).type`.\n",
      "  from ._conv import register_converters as _register_converters\n"
     ]
    }
   ],
   "source": [
    "# These are all the modules we'll be using later. Make sure you can import them\n",
    "# before proceeding further.\n",
    "%matplotlib inline\n",
    "import collections\n",
    "import math\n",
    "import numpy as np\n",
    "import os\n",
    "import random\n",
    "import tensorflow as tf\n",
    "import bz2\n",
    "from matplotlib import pylab\n",
    "from six.moves import range\n",
    "from six.moves.urllib.request import urlretrieve\n",
    "from sklearn.manifold import TSNE\n",
    "from sklearn.cluster import KMeans\n",
    "import nltk # standard preprocessing\n",
    "import operator # sorting items in dictionary by value\n",
    "#nltk.download() #tokenizers/punkt/PY3/english.pickle\n",
    "from math import ceil\n",
    "import csv"
   ]
  },
  {
   "cell_type": "markdown",
   "metadata": {},
   "source": [
    "## Dataset\n",
    "This code downloads a [dataset](http://www.evanjones.ca/software/wikipedia2text.html) consisting of several Wikipedia articles totaling up to roughly 61 megabytes. Additionally the code makes sure the file has the correct size after downloading it."
   ]
  },
  {
   "cell_type": "code",
   "execution_count": 3,
   "metadata": {},
   "outputs": [
    {
     "name": "stdout",
     "output_type": "stream",
     "text": [
      "Found and verified wikipedia2text-extracted.txt.bz2\n"
     ]
    }
   ],
   "source": [
    "url = 'http://www.evanjones.ca/software/'\n",
    "\n",
    "def maybe_download(filename, expected_bytes):\n",
    "  \"\"\"Download a file if not present, and make sure it's the right size.\"\"\"\n",
    "  if not os.path.exists(filename):\n",
    "    print('Downloading file...')\n",
    "    filename, _ = urlretrieve(url + filename, filename)\n",
    "  statinfo = os.stat(filename)\n",
    "  if statinfo.st_size == expected_bytes:\n",
    "    print('Found and verified %s' % filename)\n",
    "  else:\n",
    "    print(statinfo.st_size)\n",
    "    raise Exception(\n",
    "      'Failed to verify ' + filename + '. Can you get to it with a browser?')\n",
    "  return filename\n",
    "\n",
    "filename = maybe_download('wikipedia2text-extracted.txt.bz2', 18377035)"
   ]
  },
  {
   "cell_type": "markdown",
   "metadata": {},
   "source": [
    "## Read Data without Preprocessing \n",
    "Reads data as it is to a string and tokenize it using spaces and returns a list of words"
   ]
  },
  {
   "cell_type": "code",
   "execution_count": 4,
   "metadata": {},
   "outputs": [
    {
     "name": "stdout",
     "output_type": "stream",
     "text": [
      "Data size 11631723\n",
      "Example words (start):  ['Propaganda', 'is', 'a', 'concerted', 'set', 'of', 'messages', 'aimed', 'at', 'influencing']\n",
      "Example words (end):  ['useless', 'for', 'cultivation', '.', 'and', 'people', 'have', 'sex', 'there', '.']\n"
     ]
    }
   ],
   "source": [
    "def read_data(filename):\n",
    "  \"\"\"Extract the first file enclosed in a zip file as a list of words\"\"\"\n",
    "\n",
    "  with bz2.BZ2File(filename) as f:\n",
    "    data = []\n",
    "    file_string = f.read().decode('utf-8')\n",
    "    file_string = nltk.word_tokenize(file_string)\n",
    "    data.extend(file_string)\n",
    "  return data\n",
    "  \n",
    "words = read_data(filename)\n",
    "print('Data size %d' % len(words))\n",
    "print('Example words (start): ',words[:10])\n",
    "print('Example words (end): ',words[-10:])"
   ]
  },
  {
   "cell_type": "markdown",
   "metadata": {},
   "source": [
    "## Read Data with Preprocessing with NLTK\n",
    "Reads data as it is to a string, convert to lower-case and tokenize it using the nltk library. This code reads data in 1MB portions as processing the full text at once slows down the task and returns a list of words. You will have to download the necessary tokenizer."
   ]
  },
  {
   "cell_type": "code",
   "execution_count": 6,
   "metadata": {},
   "outputs": [
    {
     "name": "stdout",
     "output_type": "stream",
     "text": [
      "Reading data...\n",
      "Data size 3360286\n",
      "Example words (start):  ['propaganda', 'is', 'a', 'concerted', 'set', 'of', 'messages', 'aimed', 'at', 'influencing']\n",
      "Example words (end):  ['favorable', 'long-term', 'outcomes', 'for', 'around', 'half', 'of', 'those', 'diagnosed', 'with']\n"
     ]
    }
   ],
   "source": [
    "def read_data(filename):\n",
    "  \"\"\"\n",
    "  Extract the first file enclosed in a zip file as a list of words\n",
    "  and pre-processes it using the nltk python library\n",
    "  \"\"\"\n",
    "\n",
    "  with bz2.BZ2File(filename) as f:\n",
    "    data = []\n",
    "    chunk_size = 1024 * 1024 # reading 1 MB at a time as the dataset is moderately large\n",
    "    print('Reading data...')\n",
    "    while(True):\n",
    "        file_string = f.read(chunk_size).decode('utf-8')\n",
    "        if(not file_string):\n",
    "            break\n",
    "        file_string = file_string.lower()\n",
    "        # tokenizes a string to words residing in a list\n",
    "        file_string = nltk.word_tokenize(file_string)\n",
    "        data.extend(file_string)\n",
    "  return data\n",
    "\n",
    "words = read_data(filename)\n",
    "print('Data size %d' % len(words))\n",
    "print('Example words (start): ',words[:10])\n",
    "print('Example words (end): ',words[-10:])"
   ]
  },
  {
   "cell_type": "markdown",
   "metadata": {},
   "source": [
    "## Building the Dictionaries\n",
    "Builds the following. To understand each of these elements, let us also assume the text \"I like to go to school\"\n",
    "\n",
    "* `dictionary`: maps a string word to an ID (e.g. {I:0, like:1, to:2, go:3, school:4})\n",
    "* `reverse_dictionary`: maps an ID to a string word (e.g. {0:I, 1:like, 2:to, 3:go, 4:school}\n",
    "* `count`: List of list of (word, frequency) elements (e.g. [(I,1),(like,1),(to,2),(go,1),(school,1)]\n",
    "* `data` : Contain the string of text we read, where string words are replaced with word IDs (e.g. [0, 1, 2, 3, 2, 4])\n",
    "\n",
    "It also introduces an additional special token `UNK` to denote rare words to are too rare to make use of."
   ]
  },
  {
   "cell_type": "code",
   "execution_count": 7,
   "metadata": {},
   "outputs": [
    {
     "name": "stdout",
     "output_type": "stream",
     "text": [
      "Most common words (+UNK) [['UNK', 69215], ('the', 226881), (',', 184013), ('.', 120944), ('of', 116323)]\n",
      "Sample data [1731, 9, 8, 17161, 223, 4, 5224, 4496, 26, 11934]\n"
     ]
    }
   ],
   "source": [
    "# we restrict our vocabulary size to 50000\n",
    "vocabulary_size = 50000 \n",
    "\n",
    "def build_dataset(words):\n",
    "  count = [['UNK', -1]]\n",
    "  # Gets only the vocabulary_size most common words as the vocabulary\n",
    "  # All the other words will be replaced with UNK token\n",
    "  count.extend(collections.Counter(words).most_common(vocabulary_size - 1))\n",
    "  dictionary = dict()\n",
    "\n",
    "  # Create an ID for each word by giving the current length of the dictionary\n",
    "  # And adding that item to the dictionary\n",
    "  for word, _ in count:\n",
    "    dictionary[word] = len(dictionary)\n",
    "    \n",
    "  data = list()\n",
    "  unk_count = 0\n",
    "  # Traverse through all the text we have and produce a list\n",
    "  # where each element corresponds to the ID of the word found at that index\n",
    "  for word in words:\n",
    "    # If word is in the dictionary use the word ID,\n",
    "    # else use the ID of the special token \"UNK\"\n",
    "    if word in dictionary:\n",
    "      index = dictionary[word]\n",
    "    else:\n",
    "      index = 0  # dictionary['UNK']\n",
    "      unk_count = unk_count + 1\n",
    "    data.append(index)\n",
    "    \n",
    "  # update the count variable with the number of UNK occurences\n",
    "  count[0][1] = unk_count\n",
    "  \n",
    "  reverse_dictionary = dict(zip(dictionary.values(), dictionary.keys())) \n",
    "  # Make sure the dictionary is of size of the vocabulary\n",
    "  assert len(dictionary) == vocabulary_size\n",
    "    \n",
    "  return data, count, dictionary, reverse_dictionary\n",
    "\n",
    "data, count, dictionary, reverse_dictionary = build_dataset(words)\n",
    "print('Most common words (+UNK)', count[:5])\n",
    "print('Sample data', data[:10])\n",
    "del words  # Hint to reduce memory."
   ]
  },
  {
   "cell_type": "markdown",
   "metadata": {},
   "source": [
    "## Generating Batches of Data for Skip-Gram\n",
    "Generates a batch or target words (`batch`) and a batch of corresponding context words (`labels`). It reads `2*window_size+1` words at a time (called a `span`) and create `2*window_size` datapoints in a single span. The function continue in this manner until `batch_size` datapoints are created. Everytime we reach the end of the word sequence, we start from beginning. "
   ]
  },
  {
   "cell_type": "code",
   "execution_count": 8,
   "metadata": {},
   "outputs": [
    {
     "name": "stdout",
     "output_type": "stream",
     "text": [
      "data: ['propaganda', 'is', 'a', 'concerted', 'set', 'of', 'messages', 'aimed']\n",
      "\n",
      "with window_size = 1:\n",
      "    batch: ['is', 'is', 'a', 'a', 'concerted', 'concerted', 'set', 'set']\n",
      "    labels: ['propaganda', 'a', 'is', 'concerted', 'a', 'set', 'concerted', 'of']\n",
      "\n",
      "with window_size = 2:\n",
      "    batch: ['a', 'a', 'a', 'a', 'concerted', 'concerted', 'concerted', 'concerted']\n",
      "    labels: ['propaganda', 'is', 'concerted', 'set', 'is', 'a', 'set', 'of']\n"
     ]
    }
   ],
   "source": [
    "data_index = 0\n",
    "\n",
    "def generate_batch_skip_gram(batch_size, window_size):\n",
    "  # data_index is updated by 1 everytime we read a data point\n",
    "  global data_index \n",
    "    \n",
    "  # two numpy arras to hold target words (batch)\n",
    "  # and context words (labels)\n",
    "  batch = np.ndarray(shape=(batch_size), dtype=np.int32)\n",
    "  labels = np.ndarray(shape=(batch_size, 1), dtype=np.int32)\n",
    "    \n",
    "  # span defines the total window size, where\n",
    "  # data we consider at an instance looks as follows. \n",
    "  # [ skip_window target skip_window ]\n",
    "  span = 2 * window_size + 1 \n",
    "    \n",
    "  # The buffer holds the data contained within the span\n",
    "  buffer = collections.deque(maxlen=span)\n",
    "  \n",
    "  # Fill the buffer and update the data_index\n",
    "  for _ in range(span):\n",
    "    buffer.append(data[data_index])\n",
    "    data_index = (data_index + 1) % len(data)\n",
    "  \n",
    "  # This is the number of context words we sample for a single target word\n",
    "  num_samples = 2*window_size \n",
    "\n",
    "  # We break the batch reading into two for loops\n",
    "  # The inner for loop fills in the batch and labels with \n",
    "  # num_samples data points using data contained withing the span\n",
    "  # The outper for loop repeat this for batch_size//num_samples times\n",
    "  # to produce a full batch\n",
    "  for i in range(batch_size // num_samples):\n",
    "    k=0\n",
    "    # avoid the target word itself as a prediction\n",
    "    # fill in batch and label numpy arrays\n",
    "    for j in list(range(window_size))+list(range(window_size+1,2*window_size+1)):\n",
    "      batch[i * num_samples + k] = buffer[window_size]\n",
    "      labels[i * num_samples + k, 0] = buffer[j]\n",
    "      k += 1 \n",
    "    \n",
    "    # Everytime we read num_samples data points,\n",
    "    # we have created the maximum number of datapoints possible\n",
    "    # withing a single span, so we need to move the span by 1\n",
    "    # to create a fresh new span\n",
    "    buffer.append(data[data_index])\n",
    "    data_index = (data_index + 1) % len(data)\n",
    "  return batch, labels\n",
    "\n",
    "print('data:', [reverse_dictionary[di] for di in data[:8]])\n",
    "\n",
    "for window_size in [1, 2]:\n",
    "    data_index = 0\n",
    "    batch, labels = generate_batch_skip_gram(batch_size=8, window_size=window_size)\n",
    "    print('\\nwith window_size = %d:' %window_size)\n",
    "    print('    batch:', [reverse_dictionary[bi] for bi in batch])\n",
    "    print('    labels:', [reverse_dictionary[li] for li in labels.reshape(8)])"
   ]
  },
  {
   "cell_type": "markdown",
   "metadata": {},
   "source": [
    "## Skip-Gram Algorithm"
   ]
  },
  {
   "cell_type": "markdown",
   "metadata": {},
   "source": [
    "### Defining Hyperparameters\n",
    "\n",
    "Here we define several hyperparameters including `batch_size` (amount of samples in a single batch) `embedding_size` (size of embedding vectors) `window_size` (context window size)."
   ]
  },
  {
   "cell_type": "code",
   "execution_count": 9,
   "metadata": {
    "collapsed": true
   },
   "outputs": [],
   "source": [
    "batch_size = 128 # Data points in a single batch\n",
    "embedding_size = 128 # Dimension of the embedding vector.\n",
    "window_size = 4 # How many words to consider left and right.\n",
    "\n",
    "# We pick a random validation set to sample nearest neighbors\n",
    "valid_size = 16 # Random set of words to evaluate similarity on.\n",
    "# We sample valid datapoints randomly from a large window without always being deterministic\n",
    "valid_window = 50\n",
    "\n",
    "# When selecting valid examples, we select some of the most frequent words as well as\n",
    "# some moderately rare words as well\n",
    "valid_examples = np.array(random.sample(range(valid_window), valid_size))\n",
    "valid_examples = np.append(valid_examples,random.sample(range(1000, 1000+valid_window), valid_size),axis=0)\n",
    "\n",
    "num_sampled = 32 # Number of negative examples to sample."
   ]
  },
  {
   "cell_type": "markdown",
   "metadata": {},
   "source": [
    "### Defining Inputs and Outputs\n",
    "\n",
    "Here we define placeholders for feeding in training inputs and outputs (each of size `batch_size`) and a constant tensor to contain validation examples."
   ]
  },
  {
   "cell_type": "code",
   "execution_count": 10,
   "metadata": {
    "collapsed": true
   },
   "outputs": [],
   "source": [
    "tf.reset_default_graph()\n",
    "\n",
    "# Training input data (target word IDs).\n",
    "train_dataset = tf.placeholder(tf.int32, shape=[batch_size])\n",
    "# Training input label data (context word IDs)\n",
    "train_labels = tf.placeholder(tf.int32, shape=[batch_size, 1])\n",
    "# Validation input data, we don't need a placeholder\n",
    "# as we have already defined the IDs of the words selected\n",
    "# as validation data\n",
    "valid_dataset = tf.constant(valid_examples, dtype=tf.int32)"
   ]
  },
  {
   "cell_type": "markdown",
   "metadata": {},
   "source": [
    "### Defining Model Parameters and Other Variables\n",
    "We now define several TensorFlow variables such as an embedding layer (`embeddings`) and neural network parameters (`softmax_weights` and `softmax_biases`)"
   ]
  },
  {
   "cell_type": "code",
   "execution_count": 11,
   "metadata": {
    "collapsed": true
   },
   "outputs": [],
   "source": [
    "# Variables\n",
    "\n",
    "# Embedding layer, contains the word embeddings\n",
    "embeddings = tf.Variable(tf.random_uniform([vocabulary_size, embedding_size], -1.0, 1.0))\n",
    "\n",
    "# Softmax Weights and Biases\n",
    "softmax_weights = tf.Variable(\n",
    "    tf.truncated_normal([vocabulary_size, embedding_size],\n",
    "                        stddev=0.5 / math.sqrt(embedding_size))\n",
    ")\n",
    "softmax_biases = tf.Variable(tf.random_uniform([vocabulary_size],0.0,0.01))"
   ]
  },
  {
   "cell_type": "markdown",
   "metadata": {},
   "source": [
    "### Defining the Model Computations\n",
    "\n",
    "We first defing a lookup function to fetch the corresponding embedding vectors for a set of given inputs. With that, we define negative sampling loss function `tf.nn.sampled_softmax_loss` which takes in the embedding vectors and previously defined neural network parameters."
   ]
  },
  {
   "cell_type": "code",
   "execution_count": 12,
   "metadata": {},
   "outputs": [
    {
     "name": "stdout",
     "output_type": "stream",
     "text": [
      "WARNING:tensorflow:From c:\\users\\thushan\\documents\\python_virtualenvs\\tensorflow_venv\\lib\\site-packages\\tensorflow\\python\\ops\\nn_impl.py:1344: softmax_cross_entropy_with_logits (from tensorflow.python.ops.nn_ops) is deprecated and will be removed in a future version.\n",
      "Instructions for updating:\n",
      "\n",
      "Future major versions of TensorFlow will allow gradients to flow\n",
      "into the labels input on backprop by default.\n",
      "\n",
      "See @{tf.nn.softmax_cross_entropy_with_logits_v2}.\n",
      "\n"
     ]
    }
   ],
   "source": [
    "# Model.\n",
    "# Look up embeddings for a batch of inputs.\n",
    "embed = tf.nn.embedding_lookup(embeddings, train_dataset)\n",
    "\n",
    "# Compute the softmax loss, using a sample of the negative labels each time.\n",
    "loss = tf.reduce_mean(\n",
    "    tf.nn.sampled_softmax_loss(\n",
    "        weights=softmax_weights, biases=softmax_biases, inputs=embed,\n",
    "        labels=train_labels, num_sampled=num_sampled, num_classes=vocabulary_size)\n",
    ")"
   ]
  },
  {
   "cell_type": "markdown",
   "metadata": {},
   "source": [
    "### Calculating Word Similarities \n",
    "We calculate the similarity between two given words in terms of the cosine distance. To do this efficiently we use matrix operations to do so, as shown below."
   ]
  },
  {
   "cell_type": "code",
   "execution_count": 13,
   "metadata": {
    "collapsed": true
   },
   "outputs": [],
   "source": [
    "# Compute the similarity between minibatch examples and all embeddings.\n",
    "# We use the cosine distance:\n",
    "norm = tf.sqrt(tf.reduce_sum(tf.square(embeddings), 1, keepdims=True))\n",
    "normalized_embeddings = embeddings / norm\n",
    "valid_embeddings = tf.nn.embedding_lookup(\n",
    "normalized_embeddings, valid_dataset)\n",
    "similarity = tf.matmul(valid_embeddings, tf.transpose(normalized_embeddings))"
   ]
  },
  {
   "cell_type": "markdown",
   "metadata": {},
   "source": [
    "### Model Parameter Optimizer\n",
    "\n",
    "We then define a constant learning rate and an optimizer which uses the Adagrad method. Feel free to experiment with other optimizers listed [here](https://www.tensorflow.org/api_guides/python/train)."
   ]
  },
  {
   "cell_type": "code",
   "execution_count": 14,
   "metadata": {
    "collapsed": true
   },
   "outputs": [],
   "source": [
    "# Optimizer.\n",
    "optimizer = tf.train.AdagradOptimizer(1.0).minimize(loss)"
   ]
  },
  {
   "cell_type": "markdown",
   "metadata": {},
   "source": [
    "## Running the Skip-Gram Algorithm"
   ]
  },
  {
   "cell_type": "code",
   "execution_count": 15,
   "metadata": {},
   "outputs": [
    {
     "name": "stdout",
     "output_type": "stream",
     "text": [
      "Initialized\n",
      "Average loss at step 2000: 3.991611\n",
      "Average loss at step 4000: 3.627553\n",
      "Average loss at step 6000: 3.583732\n",
      "Average loss at step 8000: 3.513987\n",
      "Average loss at step 10000: 3.492103\n",
      "Nearest to his: indifferentism, amnesty, ethnographic, sheesh, banking, scot, bran, chamillionaire,\n",
      "Nearest to a: the, manchukuo, an, archipelagos, deaf, fins, communion, —,\n",
      "Nearest to it: this, outlying, not, 296, goats, messenger, reconstruct, socialized,\n",
      "Nearest to from: 1933., of, rap, dietitians, and, blanc, agraristas, technicians,\n",
      "Nearest to at: crevices, crates, alchemist, non-western, fasteners, hurdle, branch, melvins,\n",
      "Nearest to 's: the, had, offering, with, cheetham, update, horizontally, panzerfaust,\n",
      "Nearest to with: inerrancy, endeavour, belcher, prieta, and, f3, 's, helical,\n",
      "Nearest to ,: ., in, and, the, on, speeches, UNK, to,\n",
      "Nearest to this: it, boundary, luminescent, nitrate, furnace, tahiti, gem-quality, ethnographer,\n",
      "Nearest to not: lapu-lapu, sucked, it, victorians, warm, shortened, unapproved, asceticism,\n",
      "Nearest to to: for, ipu, speeds, and, dana, w.d, ., would,\n",
      "Nearest to has: have, wind, resisting, stomp, uíge, car, had, wingman,\n",
      "Nearest to .: ,, and, in, the, of, to, mussolini, sharply,\n",
      "Nearest to of: speeches, from, in, by, ., connected, gömbös, curd,\n",
      "Nearest to :: daqing, ayub, dialing, calorie, duna, centres, creeks, baal,\n",
      "Nearest to be: chance, distinguish, aretaic, 0.05, parting, 1343, wilson, 1488,\n",
      "Average loss at step 12000: 3.440032\n",
      "Average loss at step 14000: 3.433367\n",
      "Average loss at step 16000: 3.382702\n",
      "Average loss at step 18000: 3.407460\n",
      "Average loss at step 20000: 3.386678\n",
      "Nearest to his: half-light, microphone, fruiting, papadopoulos, lansdowne, indifferentism, attending, pliska,\n",
      "Nearest to a: the, an, outpacing, oedipus, lebak, letters, excommunicated, sovereigns,\n",
      "Nearest to it: this, he, vaise, sensitivity, cd-rom, there, sanz, layton,\n",
      "Nearest to from: in, to, agraristas, sanitation, between, lycée, of, manby,\n",
      "Nearest to at: fire, debacle, neutralized, santosuosso, epitheta, ufdd, inspect, branch,\n",
      "Nearest to 's: '', 800,000, athens, ishim, concretely, politicized, silo, its,\n",
      "Nearest to with: parche, trinidadians, cycles.most, or, diaspora, ligands, insurance, their,\n",
      "Nearest to ,: ., and, in, the, UNK, sheriffs, ), of,\n",
      "Nearest to this: it, boundary, markets, attains, an, dozens, pit-, 's,\n",
      "Nearest to not: medicean, lapu-lapu, also, advised, slightest, some, have, that,\n",
      "Nearest to to: would, from, in, for, ipu, saurischia, bernadino, designated,\n",
      "Nearest to has: is, have, had, bermuda, rushed, inaugurating, bishops, wellnhoferia,\n",
      "Nearest to .: ,, and, in, the, of, suspects, liège, donnchad,\n",
      "Nearest to of: the, ., and, in, by, ,, serf, kib,\n",
      "Nearest to :: dialing, brandy, railcar, ayub, monkey, kahneman, creeks, or,\n",
      "Nearest to be: have, that, were, take, thrill, conditional, jason, exclusively,\n",
      "Average loss at step 22000: 3.338528\n",
      "Average loss at step 24000: 3.394903\n",
      "Average loss at step 26000: 3.353220\n",
      "Average loss at step 28000: 3.376625\n",
      "Average loss at step 30000: 3.380557\n",
      "Nearest to his: their, 's, he, the, bug, gagnon, its, distributions,\n",
      "Nearest to a: an, olga, its, the, it, which, tobias, residents,\n",
      "Nearest to it: argument, not, this, sub-regions, he, a, so, nitrate,\n",
      "Nearest to from: between, into, prussian, supergroups, above-mentioned, hayes, overarching, due,\n",
      "Nearest to at: fire, tonal, incitement, explore, lyndon, in, debacle, monumental,\n",
      "Nearest to 's: his, the, its, phl, of, sinkhole, mid-century, mcdonald,\n",
      "Nearest to with: size, by, and, donck, store, emotionally, attendance, nuova,\n",
      "Nearest to ,: ., in, deportation, the, of, coached, exhibition, shepard,\n",
      "Nearest to this: boundary, 'quarter, it, superseded, masses, karachi, koch, preponderance,\n",
      "Nearest to not: n't, that, fritz, it, they, so, ascertaining, catering,\n",
      "Nearest to to: and, in, sandbar, messages, the, ,, would, forces,\n",
      "Nearest to has: had, have, is, was, trei, fragmentary, snapped, obedience,\n",
      "Nearest to .: ,, in, the, of, korda, and, 352, deleterious,\n",
      "Nearest to of: in, ,, sullivan-messmer, ., 's, resulted, prisons, and,\n",
      "Nearest to :: ;, 362, (, cucumbers, dharma, daqing, subtitle, railcar,\n",
      "Nearest to be: have, apus, persevered, it, thrill, crusaders, they, 316,\n",
      "Average loss at step 32000: 3.368088\n",
      "Average loss at step 34000: 3.341381\n",
      "Average loss at step 36000: 3.334178\n",
      "Average loss at step 38000: 3.342802\n",
      "Average loss at step 40000: 3.335163\n",
      "Nearest to his: 's, he, bug, half-light, their, her, richfield, 8500,\n",
      "Nearest to a: the, an, ,, hairs, greece, duels, and, micro-climates,\n",
      "Nearest to it: this, he, be, not, so, diminished, that, temperaments,\n",
      "Nearest to from: into, prussian, 1874, between, bicycling, authorized, and, qing,\n",
      "Nearest to at: anxiety, broadcast, schabowski, manitou, irregulars, inter-american, valhalla, counterrevolutionaries,\n",
      "Nearest to 's: his, #, her, blindly, ii, the, john, was,\n",
      "Nearest to with: gilded, chakvetadze, coca-cola, trinidadians, barbarity, 443, turf, indecipherable,\n",
      "Nearest to ,: ., and, of, UNK, in, the, a, exhibition,\n",
      "Nearest to this: it, furs, another, bobcats, exchanging, monash, 'quarter, wage,\n",
      "Nearest to not: they, that, n't, it, alps, siadh, could, catering,\n",
      "Nearest to to: facades, would, explore, competence, nesting, dimorphic, and, gustave,\n",
      "Nearest to has: had, have, is, fragmentary, pido, number-one, prohibiting, bermuda,\n",
      "Nearest to .: ,, and, of, the, alluding, helix, luftwaffe, competition,\n",
      "Nearest to of: ,, and, ., the, in, allahabad, bridesmaids, salting,\n",
      "Nearest to :: ;, minkel, newest, chinese, antennae, modelling, cavendish, exercises,\n",
      "Nearest to be: have, it, jenson, thrill, hirohito, decent, nationale, orchards,\n",
      "Average loss at step 42000: 3.330281\n",
      "Average loss at step 44000: 3.336652\n",
      "Average loss at step 46000: 3.341999\n",
      "Average loss at step 48000: 3.314822\n",
      "Average loss at step 50000: 3.311965\n",
      "Nearest to his: he, their, half-light, 's, plc, demoiselles, wrath, periplus,\n",
      "Nearest to a: the, an, this, note, long, eleusinian, prelate, cutting-edge,\n",
      "Nearest to it: he, also, not, this, atonal, supervision, pair, there,\n",
      "Nearest to from: and, into, in, between, härryda, divested, morwood, at,\n",
      "Nearest to at: incitement, neanderthals, in, maxtla, garrison, promiscuous, 8.4, from,\n",
      "Nearest to 's: his, the, enver, troy, trademarks, lie, depressed, ivlivs,\n",
      "Nearest to with: and, into, boers, rhapsody, breeding, then, handle, bluest,\n",
      "Nearest to ,: ., funnier, and, targeted, monte, 1900., in, pro-choice,\n",
      "Nearest to this: a, the, if, zp-32, criollismo, tobias, it, cultivates,\n",
      "Nearest to not: they, so, n't, could, spaceflight, siadh, monkeys, alps,\n",
      "Nearest to to: would, could, ealing, advice, can, that, did, assignments,\n",
      "Nearest to has: had, have, pido, fragmentary, is, baggara, uíge, also,\n",
      "Nearest to .: ,, that, and, but, in, whipple, by, revivalism,\n",
      "Nearest to of: in, bebop, salmonella, dàyuān, runners, ft., substitution, ,,\n",
      "Nearest to :: ;, '', (, [, UNK, acelhuate, philippine, or,\n",
      "Nearest to be: have, are, that, tee-shirts, hires, according, generations, nbc,\n",
      "Average loss at step 52000: 3.297227\n",
      "Average loss at step 54000: 3.303563\n",
      "Average loss at step 56000: 3.313289\n",
      "Average loss at step 58000: 3.298382\n",
      "Average loss at step 60000: 3.303299\n",
      "Nearest to his: her, 's, half-light, their, he, him, demoiselles, disposable,\n",
      "Nearest to a: an, the, this, duels, which, often, it, profitable,\n",
      "Nearest to it: this, only, be, what, he, there, drove, they,\n",
      "Nearest to from: into, in, sounded, on, ,, tyrell, carbonaceous, where,\n",
      "Nearest to at: debacle, after, shatt, morwood, schabowski, broadcast, accented, wrecking,\n",
      "Nearest to 's: his, its, s, hillsborough, r., 2.9, conservatively, fjords,\n",
      "Nearest to with: have, by, hearing, popularize, for, jurisdiction, assignments, and,\n",
      "Nearest to ,: ., the, in, and, warmongering, quiescence, UNK, noises,\n",
      "Nearest to this: it, a, the, another, 1889, longitudes, an, that,\n",
      "Nearest to not: so, n't, know, that, they, it, treatments, recognize,\n",
      "Nearest to to: would, soviet/russian, speeds, admittedly, p.m., could, prank, siemens,\n",
      "Nearest to has: had, have, is, pido, was, dcen, l, attempted,\n",
      "Nearest to .: ,, ;, :, the, chiyoda, distract, morphologies, of,\n",
      "Nearest to of: in, ., ,, dwellers, qipao, and, transiently, pencil,\n",
      "Nearest to :: ;, ., see, '', tough, antennae, franca, udine,\n",
      "Nearest to be: have, it, that, is, nbc, reins, lieberman, graeco-roman,\n",
      "Average loss at step 62000: 3.302965\n",
      "Average loss at step 64000: 3.309494\n",
      "Average loss at step 66000: 3.269769\n",
      "Average loss at step 68000: 3.268404\n",
      "Average loss at step 70000: 3.284753\n",
      "Nearest to his: her, their, the, 's, its, an, retrieve, them,\n",
      "Nearest to a: an, the, this, that, bustle, angles, it, his,\n",
      "Nearest to it: this, that, he, what, not, if, be, only,\n",
      "Nearest to from: flaps, into, noah, in, x-2, sanitation, above-mentioned, psychosis,\n",
      "Nearest to at: impeachment, alma-ata, eliciting, palate, inter-american, promiscuous, hanaya, on,\n",
      "Nearest to 's: his, the, of, her, ', its, this, UNK,\n",
      "Nearest to with: conceptualised, and, very, abstractionist, by, limbs, like, bushing,\n",
      "Nearest to ,: and, ., UNK, in, the, to, as, of,\n",
      "Nearest to this: it, the, a, that, also, when, 's, its,\n",
      "Nearest to not: that, if, so, they, it, n't, because, be,\n",
      "Nearest to to: ,, could, for, and, help, in, ., vannevar,\n",
      "Nearest to has: have, had, was, is, pia, devín, humiliating, are,\n",
      "Nearest to .: ,, and, of, the, ;, that, as, by,\n",
      "Nearest to of: and, in, ., 's, for, ,, the, antiplatelet,\n",
      "Nearest to :: i, ;, ``, ,, that, '', tough, and,\n",
      "Nearest to be: have, crusaders, that, it, then, not, are, counterattack,\n",
      "Average loss at step 72000: 3.300587\n",
      "Average loss at step 74000: 3.298462\n",
      "Average loss at step 76000: 3.290271\n",
      "Average loss at step 78000: 3.309375\n",
      "Average loss at step 80000: 3.286403\n",
      "Nearest to his: her, 's, the, he, a, him, their, gathering,\n",
      "Nearest to a: an, the, his, ,, UNK, obstruct, and, another,\n",
      "Nearest to it: this, what, he, not, only, also, said, that,\n",
      "Nearest to from: between, into, lawful, flaps, through, in, cornices, superpower,\n",
      "Nearest to at: debacle, scoreboard, inter-american, detroit-windsor, participate, manitou, guardians, furtado,\n",
      "Nearest to 's: his, the, of, its, ', and, carole, 2002,\n",
      "Nearest to with: splendour, and, nexus-6, 260,000, aviv, had, ,, rong,\n",
      "Nearest to ,: ., and, UNK, (, ', the, of, a,\n",
      "Nearest to this: it, also, wage, the, throughput, tetrahedral, boom, swinging,\n",
      "Nearest to not: only, so, it, if, also, they, overlying, believe,\n",
      "Nearest to to: fusiliers, lejeune, for, would, élite, that, and, chilly,\n",
      "Nearest to has: had, have, is, was, 1644, since, essence, despite,\n",
      "Nearest to .: ,, ;, and, administering, three-month, coalfield, as, of,\n",
      "Nearest to of: ,, 's, bizarre, struggled, ., atheists, akmolinsk, among,\n",
      "Nearest to :: ;, crawdaddy, one, three, tough, two, wakka, all,\n",
      "Nearest to be: have, it, are, then, also, tee-shirts, hunua, infused,\n",
      "Average loss at step 82000: 3.297808\n",
      "Average loss at step 84000: 3.290011\n",
      "Average loss at step 86000: 3.295641\n",
      "Average loss at step 88000: 3.279056\n",
      "Average loss at step 90000: 3.270169\n",
      "Nearest to his: the, her, 's, he, allowable, a, their, she,\n",
      "Nearest to a: an, the, his, authorization, UNK, treatable, 've, weigh-in,\n",
      "Nearest to it: this, he, said, she, not, also, that, predominance,\n",
      "Nearest to from: between, positives, lawful, with, within, through, calvin, heta,\n",
      "Nearest to at: ccm, enjoys, counterrevolutionaries, franche-comté, tiers, taxing, 1904., malayo-polynesian,\n",
      "Nearest to 's: the, his, its, acrimonious, of, drifters, .for, crater,\n",
      "Nearest to with: and, for, her, 1530, ,, between, from, made,\n",
      "Nearest to ,: ., in, UNK, and, the, ;, (, of,\n",
      "Nearest to this: it, also, its, branched, another, greece, deficits, hst,\n",
      "Nearest to not: so, although, it, if, but, also, they, even,\n",
      "Nearest to to: sania, prank, would, with, will, place-names, for, subpixels,\n",
      "Nearest to has: had, have, since, is, devín, marcel, was, dcen,\n",
      "Nearest to .: ,, ;, that, and, the, dhexe, of, vain,\n",
      "Nearest to of: for, in, ,, ., and, with, 's, victors,\n",
      "Nearest to :: ;, newest, ``, three, include, wiesenthal, rexroth, entanglement,\n",
      "Nearest to be: have, billed, welles, pleas, crusaders, preordered, persevered, are,\n",
      "Average loss at step 92000: 3.298772\n",
      "Average loss at step 94000: 3.252265\n",
      "Average loss at step 96000: 3.286938\n",
      "Average loss at step 98000: 3.288883\n",
      "Average loss at step 100000: 3.275468\n",
      "Nearest to his: their, 's, work, he, david, her, its, him,\n",
      "Nearest to a: the, an, 's, this, first, spiders, another, pontus,\n",
      "Nearest to it: she, not, he, that, this, said, also, what,\n",
      "Nearest to from: between, in, calvin, during, about, over, up, 1587,\n",
      "Nearest to at: on, counterrevolutionaries, year, after, debacle, malayo-polynesian, broadcast, for,\n",
      "Nearest to 's: the, first, and, a, of, his, was, another,\n",
      "Nearest to with: between, after, while, and, like, from, rascia, qualities,\n",
      "Nearest to ,: ., and, in, of, the, on, ', to,\n",
      "Nearest to this: also, another, it, an, the, a, sinicized, vested,\n",
      "Nearest to not: it, still, so, n't, also, they, that, although,\n",
      "Nearest to to: would, ,, and, matched, of, will, could, uninteresting,\n",
      "Nearest to has: have, had, was, is, since, fifty, arterial, albrecht,\n",
      "Nearest to .: ,, ;, and, ', jefferson, that, ``, of,\n",
      "Nearest to of: ,, in, and, 's, on, album, the, .,\n",
      "Nearest to :: ;, three, two, nematode, one, (, '', ],\n",
      "Nearest to be: have, him, hunua, categorise, hear, billed, sedimentary, tee-shirts,\n"
     ]
    }
   ],
   "source": [
    "num_steps = 100001\n",
    "skip_losses = []\n",
    "# ConfigProto is a way of providing various configuration settings \n",
    "# required to execute the graph\n",
    "with tf.Session(config=tf.ConfigProto(allow_soft_placement=True)) as session:\n",
    "  # Initialize the variables in the graph\n",
    "  tf.global_variables_initializer().run()\n",
    "  print('Initialized')\n",
    "  average_loss = 0\n",
    "  \n",
    "  # Train the Word2vec model for num_step iterations\n",
    "  for step in range(num_steps):\n",
    "    \n",
    "    # Generate a single batch of data\n",
    "    batch_data, batch_labels = generate_batch_skip_gram(\n",
    "      batch_size, window_size)\n",
    "    \n",
    "    # Populate the feed_dict and run the optimizer (minimize loss)\n",
    "    # and compute the loss\n",
    "    feed_dict = {train_dataset : batch_data, train_labels : batch_labels}\n",
    "    _, l = session.run([optimizer, loss], feed_dict=feed_dict)\n",
    "    \n",
    "    # Update the average loss variable\n",
    "    average_loss += l\n",
    "    \n",
    "    if (step+1) % 2000 == 0:\n",
    "      if step > 0:\n",
    "        average_loss = average_loss / 2000\n",
    "      \n",
    "      skip_losses.append(average_loss)\n",
    "      # The average loss is an estimate of the loss over the last 2000 batches.\n",
    "      print('Average loss at step %d: %f' % (step+1, average_loss))\n",
    "      average_loss = 0\n",
    "    \n",
    "    # Evaluating validation set word similarities\n",
    "    if (step+1) % 10000 == 0:\n",
    "      sim = similarity.eval()\n",
    "      # Here we compute the top_k closest words for a given validation word\n",
    "      # in terms of the cosine distance\n",
    "      # We do this for all the words in the validation set\n",
    "      # Note: This is an expensive step\n",
    "      for i in range(valid_size):\n",
    "        valid_word = reverse_dictionary[valid_examples[i]]\n",
    "        top_k = 8 # number of nearest neighbors\n",
    "        nearest = (-sim[i, :]).argsort()[1:top_k+1]\n",
    "        log = 'Nearest to %s:' % valid_word\n",
    "        for k in range(top_k):\n",
    "          close_word = reverse_dictionary[nearest[k]]\n",
    "          log = '%s %s,' % (log, close_word)\n",
    "        print(log)\n",
    "  skip_gram_final_embeddings = normalized_embeddings.eval()\n",
    "\n",
    "# We will save the word vectors learned and the loss over time\n",
    "# as this information is required later for comparisons\n",
    "np.save('skip_embeddings',skip_gram_final_embeddings)\n",
    "\n",
    "with open('skip_losses.csv', 'wt') as f:\n",
    "    writer = csv.writer(f, delimiter=',')\n",
    "    writer.writerow(skip_losses)"
   ]
  },
  {
   "cell_type": "markdown",
   "metadata": {},
   "source": [
    "## Visulizing the Learnings of the Skip-Gram Algorithm"
   ]
  },
  {
   "cell_type": "markdown",
   "metadata": {},
   "source": [
    "### Finding Only the Words Clustered Together Instead of Sparsely Distributed Words"
   ]
  },
  {
   "cell_type": "code",
   "execution_count": 16,
   "metadata": {
    "collapsed": true
   },
   "outputs": [],
   "source": [
    "def find_clustered_embeddings(embeddings,distance_threshold,sample_threshold):\n",
    "    ''' \n",
    "    Find only the closely clustered embeddings. \n",
    "    This gets rid of more sparsly distributed word embeddings and make the visualization clearer\n",
    "    This is useful for t-SNE visualization\n",
    "    \n",
    "    distance_threshold: maximum distance between two points to qualify as neighbors\n",
    "    sample_threshold: number of neighbors required to be considered a cluster\n",
    "    '''\n",
    "    \n",
    "    # calculate cosine similarity\n",
    "    cosine_sim = np.dot(embeddings,np.transpose(embeddings))\n",
    "    norm = np.dot(np.sum(embeddings**2,axis=1).reshape(-1,1),np.sum(np.transpose(embeddings)**2,axis=0).reshape(1,-1))\n",
    "    assert cosine_sim.shape == norm.shape\n",
    "    cosine_sim /= norm\n",
    "    \n",
    "    # make all the diagonal entries zero otherwise this will be picked as highest\n",
    "    np.fill_diagonal(cosine_sim, -1.0)\n",
    "    \n",
    "    argmax_cos_sim = np.argmax(cosine_sim, axis=1)\n",
    "    mod_cos_sim = cosine_sim\n",
    "    # find the maximums in a loop to count if there are more than n items above threshold\n",
    "    for _ in range(sample_threshold-1):\n",
    "        argmax_cos_sim = np.argmax(cosine_sim, axis=1)\n",
    "        mod_cos_sim[np.arange(mod_cos_sim.shape[0]),argmax_cos_sim] = -1\n",
    "    \n",
    "    max_cosine_sim = np.max(mod_cos_sim,axis=1)\n",
    "\n",
    "    return np.where(max_cosine_sim>distance_threshold)[0]"
   ]
  },
  {
   "cell_type": "markdown",
   "metadata": {},
   "source": [
    "### Computing the t-SNE Visualization of Word Embeddings Using Scikit-Learn"
   ]
  },
  {
   "cell_type": "code",
   "execution_count": 17,
   "metadata": {},
   "outputs": [
    {
     "name": "stdout",
     "output_type": "stream",
     "text": [
      "Fitting embeddings to T-SNE. This can take some time ...\n",
      "Pruning the T-SNE embeddings\n",
      "Out of  1000  samples,  352  samples were selected by pruning\n"
     ]
    }
   ],
   "source": [
    "\n",
    "num_points = 1000 # we will use a large sample space to build the T-SNE manifold and then prune it using cosine similarity\n",
    "\n",
    "tsne = TSNE(perplexity=30, n_components=2, init='pca', n_iter=5000)\n",
    "\n",
    "print('Fitting embeddings to T-SNE. This can take some time ...')\n",
    "# get the T-SNE manifold\n",
    "selected_embeddings = skip_gram_final_embeddings[:num_points, :]\n",
    "two_d_embeddings = tsne.fit_transform(selected_embeddings)\n",
    "\n",
    "print('Pruning the T-SNE embeddings')\n",
    "# prune the embeddings by getting ones only more than n-many sample above the similarity threshold\n",
    "# this unclutters the visualization\n",
    "selected_ids = find_clustered_embeddings(selected_embeddings,.25,10)\n",
    "two_d_embeddings = two_d_embeddings[selected_ids,:]\n",
    "\n",
    "print('Out of ',num_points,' samples, ', selected_ids.shape[0],' samples were selected by pruning')\n"
   ]
  },
  {
   "cell_type": "markdown",
   "metadata": {},
   "source": [
    "### Plotting the t-SNE Results with Matplotlib"
   ]
  },
  {
   "cell_type": "code",
   "execution_count": 18,
   "metadata": {},
   "outputs": [
    {
     "data": {
      "image/png": "[encoded data removed]",
      "text/plain": [
       "<matplotlib.figure.Figure at 0x22eb8384358>"
      ]
     },
     "metadata": {},
     "output_type": "display_data"
    }
   ],
   "source": [
    "def plot(embeddings, labels):\n",
    "  \n",
    "  n_clusters = 20 # number of clusters\n",
    "  # automatically build a discrete set of colors, each for cluster\n",
    "  label_colors = [pylab.cm.spectral(float(i) /n_clusters) for i in range(n_clusters)]\n",
    "  \n",
    "  assert embeddings.shape[0] >= len(labels), 'More labels than embeddings'\n",
    "  \n",
    "  # Define K-Means\n",
    "  kmeans = KMeans(n_clusters=n_clusters, init='k-means++', random_state=0).fit(embeddings)\n",
    "  kmeans_labels = kmeans.labels_\n",
    "  \n",
    "  pylab.figure(figsize=(15,15))  # in inches\n",
    "    \n",
    "  # plot all the embeddings and their corresponding words\n",
    "  for i, (label,klabel) in enumerate(zip(labels,kmeans_labels)):\n",
    "    x, y = embeddings[i,:]\n",
    "    pylab.scatter(x, y, c=label_colors[klabel])    \n",
    "        \n",
    "    pylab.annotate(label, xy=(x, y), xytext=(5, 2), textcoords='offset points',\n",
    "                   ha='right', va='bottom',fontsize=10)\n",
    "\n",
    "  # use for saving the figure if needed\n",
    "  #pylab.savefig('word_embeddings.png')\n",
    "  pylab.show()\n",
    "\n",
    "words = [reverse_dictionary[i] for i in selected_ids]\n",
    "plot(two_d_embeddings, words)\n"
   ]
  },
  {
   "cell_type": "markdown",
   "metadata": {},
   "source": [
    "# CBOW Algorithm"
   ]
  },
  {
   "cell_type": "markdown",
   "metadata": {},
   "source": [
    "## Changing the data generation process\n",
    "We need to define a new data generator for CBOW. Shape of the new input array is (batch_size, context_window*2). That is, a batch in CBOW captures all the words in the context of a given word."
   ]
  },
  {
   "cell_type": "code",
   "execution_count": 19,
   "metadata": {},
   "outputs": [
    {
     "name": "stdout",
     "output_type": "stream",
     "text": [
      "\n",
      "with window_size = 1:\n",
      "    batch: [['propaganda', 'a'], ['is', 'concerted'], ['a', 'set'], ['concerted', 'of'], ['set', 'messages'], ['of', 'aimed'], ['messages', 'at'], ['aimed', 'influencing']]\n",
      "    labels: ['is', 'a', 'concerted', 'set', 'of', 'messages', 'aimed', 'at']\n",
      "\n",
      "with window_size = 2:\n",
      "    batch: [['propaganda', 'is', 'concerted', 'set'], ['is', 'a', 'set', 'of'], ['a', 'concerted', 'of', 'messages'], ['concerted', 'set', 'messages', 'aimed'], ['set', 'of', 'aimed', 'at'], ['of', 'messages', 'at', 'influencing'], ['messages', 'aimed', 'influencing', 'the'], ['aimed', 'at', 'the', 'opinions']]\n",
      "    labels: ['a', 'concerted', 'set', 'of', 'messages', 'aimed', 'at', 'influencing']\n"
     ]
    }
   ],
   "source": [
    "data_index = 0\n",
    "\n",
    "def generate_batch_cbow(batch_size, window_size):\n",
    "    # window_size is the amount of words we're looking at from each side of a given word\n",
    "    # creates a single batch\n",
    "    \n",
    "    # data_index is updated by 1 everytime we read a set of data point\n",
    "    global data_index\n",
    "\n",
    "    # span defines the total window size, where\n",
    "    # data we consider at an instance looks as follows. \n",
    "    # [ skip_window target skip_window ]\n",
    "    # e.g if skip_window = 2 then span = 5\n",
    "    span = 2 * window_size + 1 # [ skip_window target skip_window ]\n",
    "\n",
    "    # two numpy arras to hold target words (batch)\n",
    "    # and context words (labels)\n",
    "    # Note that batch has span-1=2*window_size columns\n",
    "    batch = np.ndarray(shape=(batch_size,span-1), dtype=np.int32)\n",
    "    labels = np.ndarray(shape=(batch_size, 1), dtype=np.int32)\n",
    "    \n",
    "    # The buffer holds the data contained within the span\n",
    "    buffer = collections.deque(maxlen=span)\n",
    "\n",
    "    # Fill the buffer and update the data_index\n",
    "    for _ in range(span):\n",
    "        buffer.append(data[data_index])\n",
    "        data_index = (data_index + 1) % len(data)\n",
    "\n",
    "    # Here we do the batch reading\n",
    "    # We iterate through each batch index\n",
    "    # For each batch index, we iterate through span elements\n",
    "    # to fill in the columns of batch array\n",
    "    for i in range(batch_size):\n",
    "        target = window_size  # target label at the center of the buffer\n",
    "        target_to_avoid = [ window_size ] # we only need to know the words around a given word, not the word itself\n",
    "\n",
    "        # add selected target to avoid_list for next time\n",
    "        col_idx = 0\n",
    "        for j in range(span):\n",
    "            # ignore the target word when creating the batch\n",
    "            if j==span//2:\n",
    "                continue\n",
    "            batch[i,col_idx] = buffer[j] \n",
    "            col_idx += 1\n",
    "        labels[i, 0] = buffer[target]\n",
    "\n",
    "        # Everytime we read a data point,\n",
    "        # we need to move the span by 1\n",
    "        # to create a fresh new span\n",
    "        buffer.append(data[data_index])\n",
    "        data_index = (data_index + 1) % len(data)\n",
    "\n",
    "    return batch, labels\n",
    "\n",
    "for window_size in [1,2]:\n",
    "    data_index = 0\n",
    "    batch, labels = generate_batch_cbow(batch_size=8, window_size=window_size)\n",
    "    print('\\nwith window_size = %d:' % (window_size))\n",
    "    print('    batch:', [[reverse_dictionary[bii] for bii in bi] for bi in batch])\n",
    "    print('    labels:', [reverse_dictionary[li] for li in labels.reshape(8)])"
   ]
  },
  {
   "cell_type": "markdown",
   "metadata": {},
   "source": [
    "### Defining Hyperparameters\n",
    "\n",
    "Here we define several hyperparameters including `batch_size` (amount of samples in a single batch) `embedding_size` (size of embedding vectors) `window_size` (context window size)."
   ]
  },
  {
   "cell_type": "code",
   "execution_count": 20,
   "metadata": {
    "collapsed": true
   },
   "outputs": [],
   "source": [
    "batch_size = 128 # Data points in a single batch\n",
    "embedding_size = 128 # Dimension of the embedding vector.\n",
    "# How many words to consider left and right.\n",
    "# Skip gram by design does not require to have all the context words in a given step\n",
    "# However, for CBOW that's a requirement, so we limit the window size\n",
    "window_size = 2 \n",
    "\n",
    "# We pick a random validation set to sample nearest neighbors\n",
    "valid_size = 16 # Random set of words to evaluate similarity on.\n",
    "# We sample valid datapoints randomly from a large window without always being deterministic\n",
    "valid_window = 50\n",
    "\n",
    "# When selecting valid examples, we select some of the most frequent words as well as\n",
    "# some moderately rare words as well\n",
    "valid_examples = np.array(random.sample(range(valid_window), valid_size))\n",
    "valid_examples = np.append(valid_examples,random.sample(range(1000, 1000+valid_window), valid_size),axis=0)\n",
    "\n",
    "num_sampled = 32 # Number of negative examples to sample."
   ]
  },
  {
   "cell_type": "markdown",
   "metadata": {},
   "source": [
    "### Defining Inputs and Outputs\n",
    "\n",
    "Here we define placeholders for feeding in training inputs and outputs (each of size `batch_size`) and a constant tensor to contain validation examples."
   ]
  },
  {
   "cell_type": "code",
   "execution_count": 21,
   "metadata": {
    "collapsed": true
   },
   "outputs": [],
   "source": [
    "tf.reset_default_graph()\n",
    "\n",
    "# Training input data (target word IDs). Note that it has 2*window_size columns\n",
    "train_dataset = tf.placeholder(tf.int32, shape=[batch_size,2*window_size])\n",
    "# Training input label data (context word IDs)\n",
    "train_labels = tf.placeholder(tf.int32, shape=[batch_size, 1])\n",
    "# Validation input data, we don't need a placeholder\n",
    "# as we have already defined the IDs of the words selected\n",
    "# as validation data\n",
    "valid_dataset = tf.constant(valid_examples, dtype=tf.int32)"
   ]
  },
  {
   "cell_type": "markdown",
   "metadata": {},
   "source": [
    "### Defining Model Parameters and Other Variables\n",
    "We now define several TensorFlow variables such as an embedding layer (`embeddings`) and neural network parameters (`softmax_weights` and `softmax_biases`)"
   ]
  },
  {
   "cell_type": "code",
   "execution_count": 22,
   "metadata": {
    "collapsed": true
   },
   "outputs": [],
   "source": [
    "# Variables.\n",
    "\n",
    "# Embedding layer, contains the word embeddings\n",
    "embeddings = tf.Variable(tf.random_uniform([vocabulary_size, embedding_size], -1.0, 1.0,dtype=tf.float32))\n",
    "\n",
    "# Softmax Weights and Biases\n",
    "softmax_weights = tf.Variable(tf.truncated_normal([vocabulary_size, embedding_size],\n",
    "                 stddev=0.5 / math.sqrt(embedding_size),dtype=tf.float32))\n",
    "softmax_biases = tf.Variable(tf.random_uniform([vocabulary_size],0.0,0.01))"
   ]
  },
  {
   "cell_type": "markdown",
   "metadata": {},
   "source": [
    "### Defining the Model Computations\n",
    "\n",
    "We first defing a lookup function to fetch the corresponding embedding vectors for a set of given inputs. Concretely, we define 2$\\times$`window_size` embedding lookups. We then concatenate all these looked up embedding vectors to form a matrix of size `[batch_size, embedding_size, 2*window_size]`. Thereafter, we average these embedding lookups to produce an average embeddings of size `[batch_size, embedding_size]`. With that, we define negative sampling loss function `tf.nn.sampled_softmax_loss` which takes in the embedding vectors and previously defined neural network parameters."
   ]
  },
  {
   "cell_type": "code",
   "execution_count": 23,
   "metadata": {},
   "outputs": [
    {
     "name": "stdout",
     "output_type": "stream",
     "text": [
      "Defining 4 embedding lookups representing each word in the context\n",
      "Stacked embedding size: [128, 128, 4]\n",
      "Reduced mean embedding size: [128, 128]\n"
     ]
    }
   ],
   "source": [
    "# Model.\n",
    "# Look up embeddings for a batch of inputs.\n",
    "# Here we do embedding lookups for each column in the input placeholder\n",
    "# and then average them to produce an embedding_size word vector\n",
    "stacked_embedings = None\n",
    "print('Defining %d embedding lookups representing each word in the context'%(2*window_size))\n",
    "for i in range(2*window_size):\n",
    "    embedding_i = tf.nn.embedding_lookup(embeddings, train_dataset[:,i])        \n",
    "    x_size,y_size = embedding_i.get_shape().as_list()\n",
    "    if stacked_embedings is None:\n",
    "        stacked_embedings = tf.reshape(embedding_i,[x_size,y_size,1])\n",
    "    else:\n",
    "        stacked_embedings = tf.concat(axis=2,values=[stacked_embedings,tf.reshape(embedding_i,[x_size,y_size,1])])\n",
    "\n",
    "assert stacked_embedings.get_shape().as_list()[2]==2*window_size\n",
    "print(\"Stacked embedding size: %s\"%stacked_embedings.get_shape().as_list())\n",
    "mean_embeddings =  tf.reduce_mean(stacked_embedings,2,keepdims=False)\n",
    "print(\"Reduced mean embedding size: %s\"%mean_embeddings.get_shape().as_list())\n",
    "\n",
    "# Compute the softmax loss, using a sample of the negative labels each time.\n",
    "# inputs are embeddings of the train words\n",
    "# with this loss we optimize weights, biases, embeddings\n",
    "loss = tf.reduce_mean(\n",
    "    tf.nn.sampled_softmax_loss(weights=softmax_weights, biases=softmax_biases, inputs=mean_embeddings,\n",
    "                           labels=train_labels, num_sampled=num_sampled, num_classes=vocabulary_size))\n"
   ]
  },
  {
   "cell_type": "markdown",
   "metadata": {},
   "source": [
    "### Model Parameter Optimizer\n",
    "\n",
    "We then define a learning rate as a constant and an optimizer which uses the Adagrad method. Feel free to experiment with other optimizers listed [here](https://www.tensorflow.org/api_guides/python/train)."
   ]
  },
  {
   "cell_type": "code",
   "execution_count": 24,
   "metadata": {
    "collapsed": true
   },
   "outputs": [],
   "source": [
    "# Optimizer.\n",
    "optimizer = tf.train.AdagradOptimizer(1.0).minimize(loss)"
   ]
  },
  {
   "cell_type": "markdown",
   "metadata": {},
   "source": [
    "### Calculating Word Similarities \n",
    "We calculate the similarity between two given words in terms of the cosine distance. To do this efficiently we use matrix operations to do so, as shown below."
   ]
  },
  {
   "cell_type": "code",
   "execution_count": 25,
   "metadata": {
    "collapsed": true
   },
   "outputs": [],
   "source": [
    "# Compute the similarity between minibatch examples and all embeddings.\n",
    "# We use the cosine distance:\n",
    "norm = tf.sqrt(tf.reduce_sum(tf.square(embeddings), 1, keepdims=True))\n",
    "normalized_embeddings = embeddings / norm\n",
    "valid_embeddings = tf.nn.embedding_lookup(normalized_embeddings, valid_dataset)\n",
    "similarity = tf.matmul(valid_embeddings, tf.transpose(normalized_embeddings))"
   ]
  },
  {
   "cell_type": "markdown",
   "metadata": {},
   "source": [
    "## Running the CBOW Algorithm"
   ]
  },
  {
   "cell_type": "code",
   "execution_count": 26,
   "metadata": {},
   "outputs": [
    {
     "name": "stdout",
     "output_type": "stream",
     "text": [
      "Initialized\n",
      "Average loss at step 2000: 3.571350\n",
      "Average loss at step 4000: 3.077189\n",
      "Average loss at step 6000: 2.951976\n",
      "Average loss at step 8000: 2.868055\n",
      "Average loss at step 10000: 2.796585\n",
      "Nearest to with: nederlandse, abbr, canaan, ars, brochure, ester, comte, rubberized,\n",
      "Nearest to other: nuclear, 1419, restore, some, teammates, unrepresented, mothe, both,\n",
      "Nearest to '': hungarorum, paws, }, updrafts, hatta, dementing, ca, titled,\n",
      "Nearest to to: schmitz, norwood, would, bleak, 1855., arsonists, inferring, athletics,\n",
      "Nearest to on: ascendancy, dynamo, mcqueen, guyana, csc, on-die, tennessee, a.f.c.,\n",
      "Nearest to ): hitler, dart, gilma, jamboree, amp, funnier, 2,341, 35.5,\n",
      "Nearest to his: their, its, her, the, 's, sir, intestines, exaltation,\n",
      "Nearest to this: it, the, each, budgetary, predate, ingest, a, adequate,\n",
      "Nearest to one: p-38js, chekhov, rms, enforcing, degrees, assembled, daily, bytown,\n",
      "Nearest to which: but, stolen, unremarkable, who, −50, now, piero, where,\n",
      "Nearest to not: vegetative, also, sardis, hovered, canvas, opt, inoffensive, makarios,\n",
      "Nearest to but: however, which, extraordinary, multidimensional, footprints, though, who, transferred,\n",
      "Nearest to were: are, lech, was, molecular, defines, sintering, 900, fidel,\n",
      "Nearest to also: billionaires, not, hutchins, safe, ismail, highly, endorheic, qu,\n",
      "Nearest to had: has, have, checker, stacked, nutrient, fagatogo, defendants, was,\n",
      "Nearest to ;: ., ,, furry, seyyid, electromagnet, edible, between, f,\n",
      "Average loss at step 12000: 2.771984\n",
      "Average loss at step 14000: 2.716518\n",
      "Average loss at step 16000: 2.696995\n",
      "Average loss at step 18000: 2.683554\n",
      "Average loss at step 20000: 2.664762\n",
      "Nearest to with: ester, abbr, mid-to-late, plumes, toxteth, ars, checker, nederlandse,\n",
      "Nearest to other: some, nuclear, 1419, 600, occupying, spina, sandemanian, dye,\n",
      "Nearest to '': paws, updrafts, titled, ca, dementing, divining, asaph, firearm,\n",
      "Nearest to to: would, will, schmitz, norwood, could, bleak, seacoast, 535,\n",
      "Nearest to on: ascendancy, csc, upon, dynamo, mcqueen, guyana, invaded, on-die,\n",
      "Nearest to ): e.g, hitler, metres, jamboree, driving, unheard-of, 687., laterite,\n",
      "Nearest to his: her, their, its, 's, sir, intestines, exaltation, xor,\n",
      "Nearest to this: it, budgetary, each, predate, adequate, some, rapport, ingest,\n",
      "Nearest to one: enforcing, assembled, daily, extensive, smiling, immobile, 400-series, because,\n",
      "Nearest to which: but, where, who, that, expressions, unremarkable, polarization, −50,\n",
      "Nearest to not: n't, vegetative, sardis, opt, inoffensive, penthouse, spouses, erratically,\n",
      "Nearest to but: which, however, though, including, extraordinary, footprints, who, although,\n",
      "Nearest to were: are, was, lech, fidel, had, re-evaluation, have, reasoning,\n",
      "Nearest to also: billionaires, hutchins, ismail, highly, non-members, team, safe, alegre,\n",
      "Nearest to had: has, have, checker, was, stacked, were, fagatogo, received,\n",
      "Nearest to ;: ., ,, furry, :, electromagnet, arrange, jakub, kraje,\n",
      "Average loss at step 22000: 2.624746\n",
      "Average loss at step 24000: 2.615392\n",
      "Average loss at step 26000: 2.590478\n",
      "Average loss at step 28000: 2.499715\n",
      "Average loss at step 30000: 2.449202\n",
      "Nearest to with: abbr, toxteth, comte, ester, nederlandse, dubuque, raped, \\,\n",
      "Nearest to other: some, nuclear, 1419, teammates, pia, top-loading, these, dye,\n",
      "Nearest to '': titled, asaph, paws, updrafts, meshuggah, journeyed, huiñaimarca, [,\n",
      "Nearest to to: would, will, norwood, schmitz, could, seacoast, bleak, must,\n",
      "Nearest to on: upon, ascendancy, csc, guyana, dynamo, invaded, emil, muskogee,\n",
      "Nearest to ): e.g, hitler, amp, 687., orléans, unheard-of, metres, jamboree,\n",
      "Nearest to his: her, their, its, 's, kondo, intestines, sir, exaltation,\n",
      "Nearest to this: it, budgetary, each, predate, what, recklessness, some, ingest,\n",
      "Nearest to one: enforcing, assembled, smiling, 400-series, immobile, daily, because, batch,\n",
      "Nearest to which: but, where, who, −50, expressions, stolen, delineated, that,\n",
      "Nearest to not: n't, vegetative, sardis, still, penthouse, inoffensive, opt, erratically,\n",
      "Nearest to but: however, which, though, including, extraordinary, although, multidimensional, 0.006,\n",
      "Nearest to were: are, was, lech, fidel, been, had, reasoning, have,\n",
      "Nearest to also: billionaires, now, hutchins, alegre, non-members, ductile, ismail, cleveland,\n",
      "Nearest to had: has, have, checker, remained, having, carboxylic, received, were,\n",
      "Nearest to ;: ., ,, furry, :, electromagnet, -, arrange, —,\n",
      "Average loss at step 32000: 2.443845\n",
      "Average loss at step 34000: 2.432435\n",
      "Average loss at step 36000: 2.415099\n",
      "Average loss at step 38000: 2.385209\n",
      "Average loss at step 40000: 2.407546\n",
      "Nearest to with: comte, abbr, dubuque, mid-to-late, ester, between, ptolemaic, raped,\n",
      "Nearest to other: nuclear, teammates, these, dye, 1419, some, spina, pia,\n",
      "Nearest to '': paws, dementing, meshuggah, titled, [, huiñaimarca, subfreezing, divining,\n",
      "Nearest to to: would, norwood, will, schmitz, bleak, could, hypothermia, must,\n",
      "Nearest to on: upon, ascendancy, csc, mcqueen, a.f.c., nmsii, muskogee, transcripts,\n",
      "Nearest to ): e.g, hitler, 687., jamboree, amp, 2,341, driving, ciprofloxacin,\n",
      "Nearest to his: her, their, its, xor, kondo, intestines, sir, exaltation,\n",
      "Nearest to this: it, budgetary, predate, what, each, marge, some, similar,\n",
      "Nearest to one: enforcing, 400-series, assembled, smiling, daily, batch, multiculturalism, formally,\n",
      "Nearest to which: where, but, who, that, stolen, 1440, −50, expressions,\n",
      "Nearest to not: n't, vegetative, sardis, still, opt, penthouse, erratically, spouses,\n",
      "Nearest to but: however, though, which, including, especially, although, particularly, extraordinary,\n",
      "Nearest to were: are, was, lech, fidel, being, been, re-evaluation, sintering,\n",
      "Nearest to also: billionaires, now, alegre, cleveland, non-members, still, resting, hutchins,\n",
      "Nearest to had: has, have, having, carboxylic, remained, was, checker, dunkirk,\n",
      "Nearest to ;: ., ,, furry, :, venation, expressionistic, electromagnet, seyyid,\n",
      "Average loss at step 42000: 2.369765\n",
      "Average loss at step 44000: 2.388248\n",
      "Average loss at step 46000: 2.374272\n",
      "Average loss at step 48000: 2.355751\n",
      "Average loss at step 50000: 2.389159\n",
      "Nearest to with: abbr, toxteth, mid-to-late, ester, 102,800, vernal, raped, connelly,\n",
      "Nearest to other: these, various, top-loading, dye, some, teammates, pia, modern,\n",
      "Nearest to '': divining, titled, dementing, paws, mcalmon, subfreezing, [, neubrandenburg,\n",
      "Nearest to to: would, will, must, schmitz, could, bleak, towards, norwood,\n",
      "Nearest to on: upon, ascendancy, csc, muskogee, dynamo, badenweiler, transcripts, mcqueen,\n",
      "Nearest to ): e.g, metres, driving, orléans, ciprofloxacin, unheard-of, 687., 81.3,\n",
      "Nearest to his: her, their, its, xor, my, 's, intestines, exaltation,\n",
      "Nearest to this: it, budgetary, each, 98.6, what, predate, recklessness, tyresö,\n",
      "Nearest to one: enforcing, smiling, 400-series, batch, claudius, assembled, recovered, daily,\n",
      "Nearest to which: where, but, −50, that, polarization, what, who, stolen,\n",
      "Nearest to not: n't, vegetative, still, sardis, rarely, penthouse, opt, erratically,\n",
      "Nearest to but: though, however, which, although, especially, and, including, footprints,\n",
      "Nearest to were: are, was, lech, being, re-evaluation, been, fidel, unclassified,\n",
      "Nearest to also: now, billionaires, cleveland, still, ductile, alegre, highly, arrays,\n",
      "Nearest to had: has, have, having, remained, checker, carboxylic, downplayed, dunkirk,\n",
      "Nearest to ;: ., ,, —, -, furry, :, expressionistic, arrange,\n",
      "Average loss at step 52000: 2.324526\n",
      "Average loss at step 54000: 2.288432\n",
      "Average loss at step 56000: 2.252855\n",
      "Average loss at step 58000: 2.250210\n",
      "Average loss at step 60000: 2.234358\n",
      "Nearest to with: abbr, nederlandse, dubuque, vernal, validate, ptolemaic, irreparable, comte,\n",
      "Nearest to other: dye, various, teammates, top-loading, pia, tributaries, these, woolshed,\n",
      "Nearest to '': huiñaimarca, titled, divining, paws, [, meshuggah, subfreezing, война,\n",
      "Nearest to to: would, will, schmitz, could, bleak, must, norwood, towards,\n",
      "Nearest to on: upon, ascendancy, csc, feces, muskogee, mcqueen, transcripts, badenweiler,\n",
      "Nearest to ): e.g, driving, orléans, unheard-of, 2,341, amp, 687., mazzola,\n",
      "Nearest to his: her, their, its, my, xor, intestines, 's, kondo,\n",
      "Nearest to this: it, budgetary, tyresö, 98.6, predate, similar, garcia, marge,\n",
      "Nearest to one: enforcing, 400-series, assembled, claudius, smiling, multiculturalism, recovered, flourish,\n",
      "Nearest to which: where, but, whose, what, −50, stolen, who, whom,\n",
      "Nearest to not: n't, vegetative, still, sardis, rarely, opt, erratically, penthouse,\n",
      "Nearest to but: however, though, which, especially, although, including, particularly, phosgene,\n",
      "Nearest to were: are, lech, was, re-evaluation, being, been, unclassified, fidel,\n",
      "Nearest to also: now, billionaires, still, cleveland, alegre, resting, counter-terrorism, exterminate,\n",
      "Nearest to had: has, have, having, remained, carboxylic, was, dunkirk, checker,\n",
      "Nearest to ;: ., ,, —, commutes, :, venation, expressionistic, electromagnet,\n",
      "Average loss at step 62000: 2.253141\n",
      "Average loss at step 64000: 2.204824\n",
      "Average loss at step 66000: 2.238768\n",
      "Average loss at step 68000: 2.210738\n",
      "Average loss at step 70000: 2.214753\n",
      "Nearest to with: 21., abbr, irreparable, dubuque, mid-to-late, toxteth, ptolemaic, ester,\n",
      "Nearest to other: various, dye, pia, woolshed, top-loading, zwan, teammates, stoic,\n",
      "Nearest to '': divining, paws, subfreezing, titled, война, dementing, meshuggah, [,\n",
      "Nearest to to: will, schmitz, bleak, norwood, contradict, must, would, might,\n",
      "Nearest to on: upon, ascendancy, csc, metropolises, mcqueen, transcripts, cheer, emil,\n",
      "Nearest to ): e.g, orléans, metres, mazzola, driving, 687., 2,341, jamboree,\n",
      "Nearest to his: her, their, its, my, xor, osiris, intestines, exaltation,\n",
      "Nearest to this: it, similar, 98.6, budgetary, tyresö, predate, these, citation,\n",
      "Nearest to one: enforcing, 400-series, rejoin, batch, smiling, recovered, assembled, claudius,\n",
      "Nearest to which: where, but, whose, whom, polarization, −50, stolen, what,\n",
      "Nearest to not: n't, vegetative, still, rarely, opt, sardis, penthouse, never,\n",
      "Nearest to but: however, though, which, especially, although, including, footprints, particularly,\n",
      "Nearest to were: are, was, lech, been, re-evaluation, sintering, being, fidel,\n",
      "Nearest to also: now, still, billionaires, cleveland, mimesis, ductile, exterminate, resting,\n",
      "Nearest to had: have, has, having, remained, dunkirk, carboxylic, downplayed, were,\n",
      "Nearest to ;: ., ,, —, expressionistic, -, :, conch, terveet,\n",
      "Average loss at step 72000: 2.221417\n",
      "Average loss at step 74000: 2.200340\n",
      "Average loss at step 76000: 2.236453\n",
      "Average loss at step 78000: 2.179140\n",
      "Average loss at step 80000: 2.130204\n",
      "Nearest to with: between, abbr, dubuque, toxteth, 102,800, mid-to-late, 21., raped,\n",
      "Nearest to other: pia, zwan, top-loading, various, woolshed, teammates, tributaries, dye,\n",
      "Nearest to '': titled, subfreezing, huiñaimarca, divining, paws, война, [, hiphop,\n",
      "Nearest to to: schmitz, will, towards, must, would, bleak, toward, norwood,\n",
      "Nearest to on: upon, ascendancy, csc, feces, 27th, muskogee, emil, mcqueen,\n",
      "Nearest to ): e.g, orléans, metres, driving, 687., mazzola, amp, 2,341,\n",
      "Nearest to his: her, their, its, my, osiris, xor, 's, /tr,\n",
      "Nearest to this: it, 98.6, tyresö, budgetary, iguanodon, citation, similar, predate,\n",
      "Nearest to one: enforcing, recovered, glens, flourish, rejoin, blackbody, 400-series, claudius,\n",
      "Nearest to which: where, but, whom, whose, stolen, −50, 1440, who,\n",
      "Nearest to not: n't, vegetative, rarely, still, never, sardis, opt, erratically,\n",
      "Nearest to but: however, though, which, especially, although, including, particularly, al-arab,\n",
      "Nearest to were: are, was, lech, sintering, fidel, been, unclassified, re-evaluation,\n",
      "Nearest to also: now, still, billionaires, cleveland, neo-classicism, mimesis, ductile, counter-terrorism,\n",
      "Nearest to had: have, having, has, carboxylic, dunkirk, remained, checker, downplayed,\n",
      "Nearest to ;: ., ,, —, expressionistic, furry, :, -, conch,\n",
      "Average loss at step 82000: 2.135085\n",
      "Average loss at step 84000: 2.124107\n",
      "Average loss at step 86000: 2.126267\n",
      "Average loss at step 88000: 2.101563\n",
      "Average loss at step 90000: 2.100460\n",
      "Nearest to with: dubuque, comte, abbr, toxteth, nederlandse, validate, 21., ptolemaic,\n",
      "Nearest to other: various, woolshed, dye, pia, teammates, zwan, individual, top-loading,\n",
      "Nearest to '': война, paws, subfreezing, huiñaimarca, titled, dementing, divining, classrooms,\n",
      "Nearest to to: norwood, schmitz, helped, towards, bleak, must, seacoast, hypothermia,\n",
      "Nearest to on: upon, ascendancy, csc, muskogee, 27th, procedure, mcqueen, nmsii,\n",
      "Nearest to ): e.g, mazzola, orléans, 687., nightfall, 2,341, ciprofloxacin, driving,\n",
      "Nearest to his: her, their, my, its, osiris, xor, our, converging,\n",
      "Nearest to this: it, similar, 98.6, tyresö, these, marge, citation, utilitarianism,\n",
      "Nearest to one: enforcing, recovered, glens, rejoin, 400-series, assembled, batch, multiculturalism,\n",
      "Nearest to which: where, but, whom, whose, stolen, −50, 1440, moneda,\n",
      "Nearest to not: n't, rarely, never, still, vegetative, sardis, opt, erratically,\n",
      "Nearest to but: though, however, which, although, especially, including, particularly, footprints,\n",
      "Nearest to were: are, was, lech, sintering, re-evaluation, been, fidel, unclassified,\n",
      "Nearest to also: now, still, billionaires, cleveland, neo-classicism, mimesis, resting, actually,\n",
      "Nearest to had: have, has, having, carboxylic, remained, dunkirk, leikin, checker,\n",
      "Nearest to ;: ., ,, —, expressionistic, conch, commutes, furry, venation,\n",
      "Average loss at step 92000: 2.102314\n",
      "Average loss at step 94000: 2.097561\n",
      "Average loss at step 96000: 2.110340\n",
      "Average loss at step 98000: 2.095927\n",
      "Average loss at step 100000: 2.108117\n",
      "Nearest to with: toxteth, 21., 102,800, dubuque, mid-to-late, vernal, validate, abbr,\n",
      "Nearest to other: woolshed, various, top-loading, pia, dye, these, zwan, teammates,\n",
      "Nearest to '': divining, titled, subfreezing, dementing, война, word, neubrandenburg, hiphop,\n",
      "Nearest to to: bleak, might, schmitz, helped, towards, norwood, will, must,\n",
      "Nearest to on: upon, ascendancy, 27th, csc, rotherhithe, feces, cheer, muskogee,\n",
      "Nearest to ): e.g, orléans, mazzola, driving, metres, nightfall, 687., 2,341,\n",
      "Nearest to his: her, their, my, its, osiris, xor, intestines, digitally,\n",
      "Nearest to this: it, 98.6, similar, citation, tyresö, budgetary, marge, these,\n",
      "Nearest to one: glens, enforcing, recovered, 400-series, claudius, rejoin, surviving, smiling,\n",
      "Nearest to which: where, but, whom, whose, −50, stolen, moneda, polarization,\n",
      "Nearest to not: n't, rarely, never, vegetative, still, opt, sardis, spouses,\n",
      "Nearest to but: however, though, which, although, especially, whereas, including, footprints,\n",
      "Nearest to were: are, lech, was, sintering, been, re-evaluation, unclassified, symbolizing,\n",
      "Nearest to also: now, still, billionaires, cleveland, neo-classicism, resting, ductile, zemin,\n",
      "Nearest to had: having, has, have, dunkirk, downplayed, carboxylic, hancock, remained,\n",
      "Nearest to ;: ., ,, —, conch, expressionistic, :, commutes, storing,\n"
     ]
    }
   ],
   "source": [
    "num_steps = 100001\n",
    "cbow_losses = []\n",
    "\n",
    "# ConfigProto is a way of providing various configuration settings \n",
    "# required to execute the graph\n",
    "with tf.Session(config=tf.ConfigProto(allow_soft_placement=True)) as session:\n",
    "    \n",
    "    # Initialize the variables in the graph\n",
    "    tf.global_variables_initializer().run()\n",
    "    print('Initialized')\n",
    "    \n",
    "    average_loss = 0\n",
    "    \n",
    "    # Train the Word2vec model for num_step iterations\n",
    "    for step in range(num_steps):\n",
    "        \n",
    "        # Generate a single batch of data\n",
    "        batch_data, batch_labels = generate_batch_cbow(batch_size, window_size)\n",
    "        \n",
    "        # Populate the feed_dict and run the optimizer (minimize loss)\n",
    "        # and compute the loss\n",
    "        feed_dict = {train_dataset : batch_data, train_labels : batch_labels}\n",
    "        _, l = session.run([optimizer, loss], feed_dict=feed_dict)\n",
    "        \n",
    "        # Update the average loss variable\n",
    "        average_loss += l\n",
    "        \n",
    "        if (step+1) % 2000 == 0:\n",
    "            if step > 0:\n",
    "                average_loss = average_loss / 2000\n",
    "                # The average loss is an estimate of the loss over the last 2000 batches.\n",
    "            cbow_losses.append(average_loss)\n",
    "            print('Average loss at step %d: %f' % (step+1, average_loss))\n",
    "            average_loss = 0\n",
    "            \n",
    "        # Evaluating validation set word similarities\n",
    "        if (step+1) % 10000 == 0:\n",
    "            sim = similarity.eval()\n",
    "            # Here we compute the top_k closest words for a given validation word\n",
    "            # in terms of the cosine distance\n",
    "            # We do this for all the words in the validation set\n",
    "            # Note: This is an expensive step\n",
    "            for i in range(valid_size):\n",
    "                valid_word = reverse_dictionary[valid_examples[i]]\n",
    "                top_k = 8 # number of nearest neighbors\n",
    "                nearest = (-sim[i, :]).argsort()[1:top_k+1]\n",
    "                log = 'Nearest to %s:' % valid_word\n",
    "                for k in range(top_k):\n",
    "                    close_word = reverse_dictionary[nearest[k]]\n",
    "                    log = '%s %s,' % (log, close_word)\n",
    "                print(log)\n",
    "    cbow_final_embeddings = normalized_embeddings.eval()\n",
    "    \n",
    "\n",
    "np.save('cbow_embeddings',cbow_final_embeddings)\n",
    "\n",
    "with open('cbow_losses.csv', 'wt') as f:\n",
    "    writer = csv.writer(f, delimiter=',')\n",
    "    writer.writerow(cbow_losses)\n"
   ]
  },
  {
   "cell_type": "markdown",
   "metadata": {},
   "source": [
    "## Final Remarks\n",
    "I'm grateful to the Google's free deep learning course at Udacity, as some of the helper functions were adopted from code files provided in their [Github repo](https://github.com/tensorflow/tensorflow/blob/master/tensorflow/examples/udacity/5_word2vec.ipynb)"
   ]
  },
  {
   "cell_type": "code",
   "execution_count": null,
   "metadata": {
    "collapsed": true
   },
   "outputs": [],
   "source": []
  }
 ],
 "metadata": {
  "kernelspec": {
   "display_name": "Python 3",
   "language": "python",
   "name": "python3"
  },
  "language_info": {
   "codemirror_mode": {
    "name": "ipython",
    "version": 3
   },
   "file_extension": ".py",
   "mimetype": "text/x-python",
   "name": "python",
   "nbconvert_exporter": "python",
   "pygments_lexer": "ipython3",
   "version": "3.6.5"
  }
 },
 "nbformat": 4,
 "nbformat_minor": 2
}
